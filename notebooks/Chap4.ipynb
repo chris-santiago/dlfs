{
 "cells": [
  {
   "cell_type": "code",
   "execution_count": 1,
   "metadata": {},
   "outputs": [],
   "source": [
    "import numpy as np\n",
    "from sklearn.preprocessing import OneHotEncoder, scale\n",
    "\n",
    "from dlfs.nn.layers import Dense\n",
    "from dlfs.nn.losses import SoftmaxCrossEntropy, MeanSquaredError\n",
    "from dlfs.nn.optimizers import Optimizer, SGD, SGDMomentum\n",
    "from dlfs.nn.activations import Sigmoid, Tanh, Linear, ReLu\n",
    "from dlfs.nn.network import NeuralNetwork\n",
    "from dlfs.nn.train import Trainer\n",
    "from dlfs.nn.utils import softmax, calc_accuracy_model\n",
    "import dlfs.nn.mnist as mnist"
   ]
  },
  {
   "cell_type": "code",
   "execution_count": 2,
   "metadata": {},
   "outputs": [],
   "source": [
    "# mnist.init()\n",
    "X_train, y_train, X_test, y_test = mnist.load()"
   ]
  },
  {
   "cell_type": "code",
   "execution_count": 3,
   "metadata": {},
   "outputs": [
    {
     "data": {
      "text/plain": [
       "60000"
      ]
     },
     "execution_count": 3,
     "metadata": {},
     "output_type": "execute_result"
    }
   ],
   "source": [
    "num_labels = len(y_train)\n",
    "num_labels"
   ]
  },
  {
   "cell_type": "code",
   "execution_count": 5,
   "metadata": {},
   "outputs": [],
   "source": [
    "encoder = OneHotEncoder(sparse=False)\n",
    "train_labels = encoder.fit_transform(y_train.reshape(-1, 1))\n",
    "test_labels = encoder.transform(y_test.reshape(-1, 1))"
   ]
  },
  {
   "cell_type": "code",
   "execution_count": 6,
   "metadata": {},
   "outputs": [],
   "source": [
    "X_train, X_test = X_train - np.mean(X_train), X_test - np.mean(X_train)\n",
    "X_train, X_test = X_train / np.std(X_train), X_test / np.std(X_train)"
   ]
  },
  {
   "cell_type": "code",
   "execution_count": 7,
   "metadata": {},
   "outputs": [
    {
     "name": "stdout",
     "output_type": "stream",
     "text": [
      "Validation loss after 10 epochs is 0.611\n",
      "Validation loss after 20 epochs is 0.426\n",
      "Validation loss after 30 epochs is 0.387\n",
      "Validation loss after 40 epochs is 0.372\n",
      "Validation loss after 50 epochs is 0.364\n"
     ]
    }
   ],
   "source": [
    "model = NeuralNetwork(\n",
    "    layers=[\n",
    "        Dense(neurons=89, activation=Tanh()),\n",
    "        Dense(neurons=10, activation=Sigmoid())\n",
    "    ],\n",
    "    loss = MeanSquaredError(normalize=False),\n",
    "    seed=20190119\n",
    ")\n",
    "\n",
    "trainer = Trainer(model, SGD(0.1))\n",
    "trainer.fit(X_train, train_labels, X_test, test_labels,\n",
    "            epochs = 50,\n",
    "            eval_every = 10,\n",
    "            seed=20190119,\n",
    "            batch_size=60\n",
    "           )"
   ]
  },
  {
   "cell_type": "code",
   "execution_count": 8,
   "metadata": {},
   "outputs": [
    {
     "name": "stdout",
     "output_type": "stream",
     "text": [
      "The model validation accuracy is: 72.77\n"
     ]
    }
   ],
   "source": [
    "calc_accuracy_model(model, X_test, y_test)"
   ]
  },
  {
   "cell_type": "code",
   "execution_count": 10,
   "metadata": {},
   "outputs": [
    {
     "name": "stdout",
     "output_type": "stream",
     "text": [
      "Validation loss after 10 epochs is 0.631\n",
      "Validation loss after 20 epochs is 0.569\n",
      "Validation loss after 30 epochs is 0.549\n",
      "Validation loss after 40 epochs is 0.545\n",
      "Loss increased after epoch 50, final loss was 0.545, using the model from epoch 40\n"
     ]
    }
   ],
   "source": [
    "model = NeuralNetwork(\n",
    "    layers=[\n",
    "        Dense(neurons=89, activation=Tanh()),\n",
    "        Dense(neurons=10, activation=Linear())  # don't need Sigmoid() because outputs are going to SoftmaxCrossEntropy\n",
    "    ],\n",
    "    loss = SoftmaxCrossEntropy(),\n",
    "    seed=20190119\n",
    ")\n",
    "\n",
    "trainer = Trainer(model, SGD(0.1))\n",
    "trainer.fit(\n",
    "    X_train, train_labels, X_test, test_labels,\n",
    "    epochs = 50,\n",
    "    eval_every = 10,\n",
    "    seed=20190119,\n",
    "    batch_size=60\n",
    ")"
   ]
  },
  {
   "cell_type": "code",
   "execution_count": 11,
   "metadata": {},
   "outputs": [
    {
     "name": "stdout",
     "output_type": "stream",
     "text": [
      "The model validation accuracy is: 90.96\n"
     ]
    }
   ],
   "source": [
    "calc_accuracy_model(model, X_test, y_test)"
   ]
  },
  {
   "cell_type": "code",
   "execution_count": 7,
   "metadata": {},
   "outputs": [
    {
     "name": "stdout",
     "output_type": "stream",
     "text": [
      "Validation loss after 10 epochs is 0.386\n",
      "Validation loss after 20 epochs is 0.344\n",
      "Validation loss after 30 epochs is 0.335\n",
      "Validation loss after 40 epochs is 0.335\n",
      "Loss increased after epoch 50, final loss was 0.335, using the model from epoch 40\n"
     ]
    }
   ],
   "source": [
    "model = NeuralNetwork(\n",
    "    layers=[\n",
    "        Dense(neurons=89, activation=Tanh()),\n",
    "        Dense(neurons=10, activation=Linear())  # don't need Sigmoid() because outputs are going to SoftmaxCrossEntropy\n",
    "    ],\n",
    "    loss = SoftmaxCrossEntropy(),\n",
    "    seed=20190119\n",
    ")\n",
    "\n",
    "trainer = Trainer(model, SGDMomentum(lr=0.1, momentum=0.9))\n",
    "trainer.fit(\n",
    "    X_train, train_labels, X_test, test_labels,\n",
    "    epochs = 50,\n",
    "    eval_every = 10,\n",
    "    seed=20190119,\n",
    "    batch_size=60\n",
    ")"
   ]
  },
  {
   "cell_type": "code",
   "execution_count": 8,
   "metadata": {},
   "outputs": [
    {
     "name": "stdout",
     "output_type": "stream",
     "text": [
      "The model validation accuracy is: 95.57\n"
     ]
    }
   ],
   "source": [
    "calc_accuracy_model(model, X_test, y_test)"
   ]
  },
  {
   "cell_type": "code",
   "execution_count": 14,
   "metadata": {},
   "outputs": [
    {
     "name": "stdout",
     "output_type": "stream",
     "text": [
      "Validation loss after 10 epochs is 0.540\n",
      "Validation loss after 20 epochs is 0.316\n",
      "Validation loss after 30 epochs is 0.287\n",
      "Loss increased after epoch 40, final loss was 0.287, using the model from epoch 30\n"
     ]
    }
   ],
   "source": [
    "model = NeuralNetwork(\n",
    "    layers=[\n",
    "        Dense(neurons=89, activation=Tanh()),\n",
    "        Dense(neurons=10, activation=Linear())  # don't need Sigmoid() because outputs are going to SoftmaxCrossEntropy\n",
    "    ],\n",
    "    loss = SoftmaxCrossEntropy(),\n",
    "    seed=20190119\n",
    ")\n",
    "optim = SGDMomentum(lr=0.2, final_lr=0.05, decay_type='exponential', momentum=0.9)\n",
    "trainer = Trainer(model, optim)\n",
    "trainer.fit(\n",
    "    X_train, train_labels, X_test, test_labels,\n",
    "    epochs = 50,\n",
    "    eval_every = 10,\n",
    "    seed=20190119,\n",
    "    batch_size=60\n",
    ")"
   ]
  },
  {
   "cell_type": "code",
   "execution_count": 15,
   "metadata": {},
   "outputs": [
    {
     "name": "stdout",
     "output_type": "stream",
     "text": [
      "The model validation accuracy is: 95.88\n"
     ]
    }
   ],
   "source": [
    "calc_accuracy_model(model, X_test, y_test)"
   ]
  },
  {
   "cell_type": "code",
   "execution_count": 8,
   "metadata": {},
   "outputs": [
    {
     "name": "stdout",
     "output_type": "stream",
     "text": [
      "Validation loss after 10 epochs is 0.383\n",
      "Validation loss after 20 epochs is 0.284\n",
      "Validation loss after 30 epochs is 0.247\n",
      "Validation loss after 40 epochs is 0.241\n",
      "Loss increased after epoch 50, final loss was 0.241, using the model from epoch 40\n"
     ]
    }
   ],
   "source": [
    "model = NeuralNetwork(\n",
    "    layers=[\n",
    "        Dense(neurons=89, activation=Tanh(), weight_init='glorot'),\n",
    "        Dense(neurons=10, activation=Linear(), weight_init='glorot')  # don't need Sigmoid() because outputs are going to SoftmaxCrossEntropy\n",
    "    ],\n",
    "    loss = SoftmaxCrossEntropy(),\n",
    "    seed=20190119\n",
    ")\n",
    "optim = SGDMomentum(lr=0.2, final_lr=0.05, decay_type='exponential', momentum=0.9)\n",
    "trainer = Trainer(model, optim)\n",
    "trainer.fit(\n",
    "    X_train, train_labels, X_test, test_labels,\n",
    "    epochs = 50,\n",
    "    eval_every = 10,\n",
    "    seed=20190119,\n",
    "    batch_size=60\n",
    ")"
   ]
  },
  {
   "cell_type": "code",
   "execution_count": 9,
   "metadata": {},
   "outputs": [
    {
     "name": "stdout",
     "output_type": "stream",
     "text": [
      "The model validation accuracy is: 96.69\n"
     ]
    }
   ],
   "source": [
    "calc_accuracy_model(model, X_test, y_test)"
   ]
  },
  {
   "cell_type": "code",
   "execution_count": 10,
   "metadata": {},
   "outputs": [
    {
     "name": "stdout",
     "output_type": "stream",
     "text": [
      "Validation loss after 10 epochs is 0.368\n",
      "Validation loss after 20 epochs is 0.273\n",
      "Validation loss after 30 epochs is 0.247\n",
      "Validation loss after 40 epochs is 0.212\n",
      "Validation loss after 50 epochs is 0.203\n"
     ]
    }
   ],
   "source": [
    "model = NeuralNetwork(\n",
    "    layers=[\n",
    "        Dense(neurons=89, activation=Tanh(), weight_init='glorot', dropout=0.8),\n",
    "        Dense(neurons=89, activation=Tanh(), weight_init='glorot', dropout=0.8),\n",
    "        Dense(neurons=10, activation=Linear(), weight_init='glorot')  # don't need Sigmoid() because outputs are going to SoftmaxCrossEntropy\n",
    "    ],\n",
    "    loss = SoftmaxCrossEntropy(),\n",
    "    seed=20190119\n",
    ")\n",
    "optim = SGDMomentum(lr=0.2, final_lr=0.05, decay_type='exponential', momentum=0.9)\n",
    "trainer = Trainer(model, optim)\n",
    "trainer.fit(\n",
    "    X_train, train_labels, X_test, test_labels,\n",
    "    epochs = 50,\n",
    "    eval_every = 10,\n",
    "    seed=20190119,\n",
    "    batch_size=60\n",
    ")"
   ]
  },
  {
   "cell_type": "code",
   "execution_count": 11,
   "metadata": {},
   "outputs": [
    {
     "name": "stdout",
     "output_type": "stream",
     "text": [
      "The model validation accuracy is: 96.78\n"
     ]
    }
   ],
   "source": [
    "calc_accuracy_model(model, X_test, y_test)"
   ]
  },
  {
   "cell_type": "code",
   "execution_count": 18,
   "metadata": {},
   "outputs": [
    {
     "name": "stdout",
     "output_type": "stream",
     "text": [
      "Validation loss after 10 epochs is 0.442\n",
      "Validation loss after 20 epochs is 0.285\n",
      "Validation loss after 30 epochs is 0.280\n",
      "Validation loss after 40 epochs is 0.245\n",
      "Validation loss after 50 epochs is 0.225\n",
      "Validation loss after 60 epochs is 0.224\n",
      "Validation loss after 70 epochs is 0.206\n",
      "Validation loss after 80 epochs is 0.202\n",
      "Validation loss after 90 epochs is 0.197\n",
      "Validation loss after 100 epochs is 0.197\n"
     ]
    }
   ],
   "source": [
    "model = NeuralNetwork(\n",
    "    layers=[\n",
    "        Dense(neurons=96, activation=Tanh(), weight_init='glorot', dropout=0.8),\n",
    "        Dense(neurons=96, activation=Tanh(), weight_init='glorot', dropout=0.8),\n",
    "        Dense(neurons=10, activation=Linear(), weight_init='glorot')  # don't need Sigmoid() because outputs are going to SoftmaxCrossEntropy\n",
    "    ],\n",
    "    loss = SoftmaxCrossEntropy(),\n",
    "    seed=20190119\n",
    ")\n",
    "optim = SGDMomentum(lr=0.2, final_lr=0.05, decay_type='exponential', momentum=0.9)\n",
    "trainer = Trainer(model, optim)\n",
    "trainer.fit(\n",
    "    X_train, train_labels, X_test, test_labels,\n",
    "    epochs=100,\n",
    "    eval_every=10,\n",
    "    seed=20190119,\n",
    "    batch_size=60\n",
    ")"
   ]
  },
  {
   "cell_type": "code",
   "execution_count": 19,
   "metadata": {},
   "outputs": [
    {
     "name": "stdout",
     "output_type": "stream",
     "text": [
      "The model validation accuracy is: 97.14\n"
     ]
    }
   ],
   "source": [
    "calc_accuracy_model(model, X_test, y_test)"
   ]
  },
  {
   "cell_type": "code",
   "execution_count": null,
   "metadata": {},
   "outputs": [],
   "source": []
  }
 ],
 "metadata": {
  "kernelspec": {
   "display_name": "Python 3",
   "language": "python",
   "name": "python3"
  },
  "language_info": {
   "codemirror_mode": {
    "name": "ipython",
    "version": 3
   },
   "file_extension": ".py",
   "mimetype": "text/x-python",
   "name": "python",
   "nbconvert_exporter": "python",
   "pygments_lexer": "ipython3",
   "version": "3.7.8"
  }
 },
 "nbformat": 4,
 "nbformat_minor": 4
}
