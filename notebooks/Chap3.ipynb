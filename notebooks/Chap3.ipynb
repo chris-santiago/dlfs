{
 "cells": [
  {
   "cell_type": "code",
   "execution_count": null,
   "metadata": {},
   "outputs": [],
   "source": [
    "import numpy as np\n",
    "from sklearn.datasets import load_boston\n",
    "from sklearn.preprocessing import StandardScaler\n",
    "from sklearn.model_selection import train_test_split\n",
    "import matplotlib.pyplot as plt\n",
    "\n",
    "import dlfs.neuralnet as nn"
   ]
  },
  {
   "cell_type": "code",
   "execution_count": null,
   "metadata": {},
   "outputs": [],
   "source": [
    "boston = load_boston()\n",
    "data = boston.data\n",
    "target = boston.target\n",
    "features = boston.feature_names"
   ]
  },
  {
   "cell_type": "code",
   "execution_count": null,
   "metadata": {},
   "outputs": [],
   "source": [
    "sc = StandardScaler()\n",
    "data = sc.fit_transform(data)\n",
    "X_train, X_test, y_train, y_test = train_test_split(data, target, test_size=0.3, random_state=80718)\n",
    "y_train, y_test = y_train.reshape(-1, 1), y_test.reshape(-1, 1)"
   ]
  },
  {
   "cell_type": "code",
   "execution_count": null,
   "metadata": {},
   "outputs": [],
   "source": [
    "lr_net = nn.NeuralNetwork(\n",
    "    layers=[\n",
    "        nn.Dense(neurons=1,activation=nn.Linear())\n",
    "    ],\n",
    "    loss=nn.MeanSquaredError(),\n",
    "    seed=20190501\n",
    ")\n",
    "\n",
    "single_net = nn.NeuralNetwork(\n",
    "    layers=[\n",
    "        nn.Dense(neurons=13, activation=nn.Sigmoid()),\n",
    "        nn.Dense(neurons=1, activation=nn.Linear())\n",
    "    ],\n",
    "    loss=nn.MeanSquaredError(),\n",
    "    seed=20190501\n",
    ")\n",
    "\n",
    "deep_net = nn.NeuralNetwork(\n",
    "    layers=[\n",
    "        nn.Dense(neurons=13, activation=nn.Sigmoid()),\n",
    "        nn.Dense(neurons=13, activation=nn.Sigmoid()),\n",
    "        nn.Dense(neurons=1, activation=nn.Linear())\n",
    "    ],\n",
    "    loss=nn.MeanSquaredError(),\n",
    "    seed=20190501\n",
    ")"
   ]
  },
  {
   "cell_type": "code",
   "execution_count": null,
   "metadata": {},
   "outputs": [],
   "source": [
    "trainer = nn.Trainer(lr_net, nn.SGD(lr=0.01))\n",
    "\n",
    "trainer.fit(X_train, y_train, X_test, y_test,\n",
    "       epochs = 50,\n",
    "       eval_every = 10,\n",
    "       seed=20190501)\n",
    "print()\n",
    "nn.eval_regression_model(lr_net, X_test, y_test)"
   ]
  },
  {
   "cell_type": "code",
   "execution_count": null,
   "metadata": {},
   "outputs": [],
   "source": [
    "trainer = nn.Trainer(single_net, nn.SGD(lr=0.01))\n",
    "\n",
    "trainer.fit(X_train, y_train, X_test, y_test,\n",
    "       epochs = 50,\n",
    "       eval_every = 10,\n",
    "       seed=20190501)\n",
    "print()\n",
    "nn.eval_regression_model(single_net, X_test, y_test)"
   ]
  },
  {
   "cell_type": "code",
   "execution_count": null,
   "metadata": {},
   "outputs": [],
   "source": [
    "trainer = nn.Trainer(deep_net, nn.SGD(lr=0.01))\n",
    "\n",
    "trainer.fit(X_train, y_train, X_test, y_test,\n",
    "       epochs = 50,\n",
    "       eval_every =3,\n",
    "       seed=20190501)\n",
    "print()\n",
    "nn.eval_regression_model(deep_net, X_test, y_test)"
   ]
  },
  {
   "cell_type": "code",
   "execution_count": null,
   "metadata": {},
   "outputs": [],
   "source": []
  }
 ],
 "metadata": {
  "kernelspec": {
   "display_name": "Python 3",
   "language": "python",
   "name": "python3"
  },
  "language_info": {
   "codemirror_mode": {
    "name": "ipython",
    "version": 3
   },
   "file_extension": ".py",
   "mimetype": "text/x-python",
   "name": "python",
   "nbconvert_exporter": "python",
   "pygments_lexer": "ipython3",
   "version": "3.7.8"
  }
 },
 "nbformat": 4,
 "nbformat_minor": 4
}
