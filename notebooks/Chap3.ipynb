{
 "cells": [
  {
   "cell_type": "code",
   "execution_count": 1,
   "metadata": {},
   "outputs": [],
   "source": [
    "import numpy as np\n",
    "from sklearn.datasets import load_boston\n",
    "from sklearn.preprocessing import StandardScaler\n",
    "from sklearn.model_selection import train_test_split\n",
    "import matplotlib.pyplot as plt\n",
    "\n",
    "import dlfs.neuralnet as nn"
   ]
  },
  {
   "cell_type": "code",
   "execution_count": 2,
   "metadata": {},
   "outputs": [],
   "source": [
    "boston = load_boston()\n",
    "data = boston.data\n",
    "target = boston.target\n",
    "features = boston.feature_names"
   ]
  },
  {
   "cell_type": "code",
   "execution_count": 3,
   "metadata": {},
   "outputs": [],
   "source": [
    "sc = StandardScaler()\n",
    "data = sc.fit_transform(data)\n",
    "X_train, X_test, y_train, y_test = train_test_split(data, target, test_size=0.3, random_state=80718)\n",
    "y_train, y_test = y_train.reshape(-1, 1), y_test.reshape(-1, 1)"
   ]
  },
  {
   "cell_type": "code",
   "execution_count": 4,
   "metadata": {},
   "outputs": [],
   "source": [
    "lr_net = nn.NeuralNetwork(\n",
    "    layers=[\n",
    "        nn.Dense(neurons=1,activation=nn.Linear())\n",
    "    ],\n",
    "    loss=nn.MeanSquaredError(),\n",
    "    seed=20190501\n",
    ")\n",
    "\n",
    "single_net = nn.NeuralNetwork(\n",
    "    layers=[\n",
    "        nn.Dense(neurons=13, activation=nn.Sigmoid()),\n",
    "        nn.Dense(neurons=1, activation=nn.Linear())\n",
    "    ],\n",
    "    loss=nn.MeanSquaredError(),\n",
    "    seed=20190501\n",
    ")\n",
    "\n",
    "deep_net = nn.NeuralNetwork(\n",
    "    layers=[\n",
    "        nn.Dense(neurons=13, activation=nn.Sigmoid()),\n",
    "        nn.Dense(neurons=13, activation=nn.Sigmoid()),\n",
    "        nn.Dense(neurons=1, activation=nn.Linear())\n",
    "    ],\n",
    "    loss=nn.MeanSquaredError(),\n",
    "    seed=20190501\n",
    ")"
   ]
  },
  {
   "cell_type": "code",
   "execution_count": 5,
   "metadata": {},
   "outputs": [
    {
     "name": "stdout",
     "output_type": "stream",
     "text": [
      "Validation loss after 10 epochs is 30.293\n",
      "Validation loss after 20 epochs is 28.469\n",
      "Validation loss after 30 epochs is 26.293\n",
      "Validation loss after 40 epochs is 25.541\n",
      "Validation loss after 50 epochs is 25.087\n",
      "\n",
      "\n",
      "        Mean absolute error: 3.52 \n",
      "\n",
      "        Root mean squared error: 5.01\n",
      "        \n"
     ]
    }
   ],
   "source": [
    "trainer = nn.Trainer(lr_net, nn.SGD(lr=0.01))\n",
    "\n",
    "trainer.fit(X_train, y_train, X_test, y_test,\n",
    "       epochs = 50,\n",
    "       eval_every = 10,\n",
    "       seed=20190501)\n",
    "print()\n",
    "nn.eval_regression_model(lr_net, X_test, y_test)"
   ]
  },
  {
   "cell_type": "code",
   "execution_count": 6,
   "metadata": {},
   "outputs": [
    {
     "name": "stdout",
     "output_type": "stream",
     "text": [
      "Validation loss after 10 epochs is 27.435\n",
      "Validation loss after 20 epochs is 21.839\n",
      "Validation loss after 30 epochs is 18.918\n",
      "Validation loss after 40 epochs is 17.195\n",
      "Validation loss after 50 epochs is 16.215\n",
      "\n",
      "\n",
      "        Mean absolute error: 2.6 \n",
      "\n",
      "        Root mean squared error: 4.03\n",
      "        \n"
     ]
    }
   ],
   "source": [
    "trainer = nn.Trainer(single_net, nn.SGD(lr=0.01))\n",
    "\n",
    "trainer.fit(X_train, y_train, X_test, y_test,\n",
    "       epochs = 50,\n",
    "       eval_every = 10,\n",
    "       seed=20190501)\n",
    "print()\n",
    "nn.eval_regression_model(single_net, X_test, y_test)"
   ]
  },
  {
   "cell_type": "code",
   "execution_count": 7,
   "metadata": {},
   "outputs": [
    {
     "name": "stdout",
     "output_type": "stream",
     "text": [
      "Validation loss after 10 epochs is 44.143\n",
      "Validation loss after 20 epochs is 25.278\n",
      "Validation loss after 30 epochs is 22.339\n",
      "Validation loss after 40 epochs is 16.500\n",
      "Validation loss after 50 epochs is 14.655\n",
      "Validation loss after 60 epochs is 13.669\n",
      "Validation loss after 70 epochs is 13.333\n",
      "Validation loss after 80 epochs is 12.481\n",
      "Validation loss after 90 epochs is 11.664\n",
      "Validation loss after 100 epochs is 10.898\n",
      "\n",
      "\n",
      "        Mean absolute error: 2.13 \n",
      "\n",
      "        Root mean squared error: 3.3\n",
      "        \n"
     ]
    }
   ],
   "source": [
    "trainer = nn.Trainer(deep_net, nn.SGD(lr=0.01))\n",
    "\n",
    "trainer.fit(X_train, y_train, X_test, y_test,\n",
    "       epochs=100,\n",
    "       eval_every=10,\n",
    "       seed=20190501)\n",
    "print()\n",
    "nn.eval_regression_model(deep_net, X_test, y_test)"
   ]
  },
  {
   "cell_type": "code",
   "execution_count": null,
   "metadata": {},
   "outputs": [],
   "source": []
  }
 ],
 "metadata": {
  "kernelspec": {
   "display_name": "Python 3",
   "language": "python",
   "name": "python3"
  },
  "language_info": {
   "codemirror_mode": {
    "name": "ipython",
    "version": 3
   },
   "file_extension": ".py",
   "mimetype": "text/x-python",
   "name": "python",
   "nbconvert_exporter": "python",
   "pygments_lexer": "ipython3",
   "version": "3.7.8"
  }
 },
 "nbformat": 4,
 "nbformat_minor": 4
}
